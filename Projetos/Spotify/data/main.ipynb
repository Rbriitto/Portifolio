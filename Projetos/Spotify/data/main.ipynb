{
 "cells": [
  {
   "cell_type": "code",
   "execution_count": 1,
   "id": "e1a453b8",
   "metadata": {},
   "outputs": [
    {
     "name": "stdout",
     "output_type": "stream",
     "text": [
      "Index(['track_name', 'artist(s)_name', 'artist_count', 'released_year',\n",
      "       'released_month', 'released_day', 'in_spotify_playlists',\n",
      "       'in_spotify_charts', 'streams', 'in_apple_playlists', 'in_apple_charts',\n",
      "       'in_deezer_playlists', 'in_deezer_charts', 'in_shazam_charts', 'bpm',\n",
      "       'key', 'mode', 'danceability_%', 'valence_%', 'energy_%',\n",
      "       'acousticness_%', 'instrumentalness_%', 'liveness_%', 'speechiness_%'],\n",
      "      dtype='object')\n"
     ]
    }
   ],
   "source": [
    "import pandas as pd\n",
    "\n",
    "data = pd.read_csv('spotify-2023.csv', \n",
    "    encoding=\"utf-8\", \n",
    "    sep=',', \n",
    "    on_bad_lines='skip' \n",
    ")\n",
    "\n",
    "print(data.columns)"
   ]
  }
 ],
 "metadata": {
  "kernelspec": {
   "display_name": "Python 3",
   "language": "python",
   "name": "python3"
  },
  "language_info": {
   "codemirror_mode": {
    "name": "ipython",
    "version": 3
   },
   "file_extension": ".py",
   "mimetype": "text/x-python",
   "name": "python",
   "nbconvert_exporter": "python",
   "pygments_lexer": "ipython3",
   "version": "3.11.9"
  }
 },
 "nbformat": 4,
 "nbformat_minor": 5
}
