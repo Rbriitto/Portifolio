{
 "cells": [
  {
   "cell_type": "code",
   "execution_count": 2,
   "id": "30c86a1e",
   "metadata": {},
   "outputs": [],
   "source": [
    "import pandas as pd\n"
   ]
  },
  {
   "cell_type": "code",
   "execution_count": 10,
   "id": "666ea36b",
   "metadata": {},
   "outputs": [
    {
     "data": {
      "text/html": [
       "<div>\n",
       "<style scoped>\n",
       "    .dataframe tbody tr th:only-of-type {\n",
       "        vertical-align: middle;\n",
       "    }\n",
       "\n",
       "    .dataframe tbody tr th {\n",
       "        vertical-align: top;\n",
       "    }\n",
       "\n",
       "    .dataframe thead th {\n",
       "        text-align: right;\n",
       "    }\n",
       "</style>\n",
       "<table border=\"1\" class=\"dataframe\">\n",
       "  <thead>\n",
       "    <tr style=\"text-align: right;\">\n",
       "      <th></th>\n",
       "      <th>CPF</th>\n",
       "      <th>Nome</th>\n",
       "      <th>Idade</th>\n",
       "      <th>Sexo</th>\n",
       "      <th>Localização</th>\n",
       "      <th>Historico_Compras</th>\n",
       "      <th>Preferencias_Produto</th>\n",
       "    </tr>\n",
       "  </thead>\n",
       "  <tbody>\n",
       "    <tr>\n",
       "      <th>0</th>\n",
       "      <td>396.248.571-64</td>\n",
       "      <td>Pedro Lucas Cirino</td>\n",
       "      <td>31</td>\n",
       "      <td>Feminino</td>\n",
       "      <td>Borges do Campo</td>\n",
       "      <td>13</td>\n",
       "      <td>Acessórios</td>\n",
       "    </tr>\n",
       "    <tr>\n",
       "      <th>1</th>\n",
       "      <td>583.760.214-35</td>\n",
       "      <td>João Gabriel Jesus</td>\n",
       "      <td>36</td>\n",
       "      <td>Feminino</td>\n",
       "      <td>Cavalcanti da Praia</td>\n",
       "      <td>16</td>\n",
       "      <td>Camisetas</td>\n",
       "    </tr>\n",
       "  </tbody>\n",
       "</table>\n",
       "</div>"
      ],
      "text/plain": [
       "              CPF                Nome  Idade      Sexo          Localização  \\\n",
       "0  396.248.571-64  Pedro Lucas Cirino     31  Feminino      Borges do Campo   \n",
       "1  583.760.214-35  João Gabriel Jesus     36  Feminino  Cavalcanti da Praia   \n",
       "\n",
       "   Historico_Compras Preferencias_Produto  \n",
       "0                 13           Acessórios  \n",
       "1                 16            Camisetas  "
      ]
     },
     "execution_count": 10,
     "metadata": {},
     "output_type": "execute_result"
    }
   ],
   "source": [
    "df = pd.read_csv(\"../data/clientes.csv\")\n",
    "df.head(2)"
   ]
  },
  {
   "cell_type": "code",
   "execution_count": 8,
   "id": "47ea80e9",
   "metadata": {},
   "outputs": [
    {
     "data": {
      "text/html": [
       "<div>\n",
       "<style scoped>\n",
       "    .dataframe tbody tr th:only-of-type {\n",
       "        vertical-align: middle;\n",
       "    }\n",
       "\n",
       "    .dataframe tbody tr th {\n",
       "        vertical-align: top;\n",
       "    }\n",
       "\n",
       "    .dataframe thead th {\n",
       "        text-align: right;\n",
       "    }\n",
       "</style>\n",
       "<table border=\"1\" class=\"dataframe\">\n",
       "  <thead>\n",
       "    <tr style=\"text-align: right;\">\n",
       "      <th></th>\n",
       "      <th>Produto</th>\n",
       "      <th>Quantidade_Estoque</th>\n",
       "      <th>Data_Entrada</th>\n",
       "      <th>Data_Saida</th>\n",
       "      <th>Fornecedor</th>\n",
       "      <th>Tempo_Medio_Reposicao</th>\n",
       "    </tr>\n",
       "  </thead>\n",
       "  <tbody>\n",
       "    <tr>\n",
       "      <th>0</th>\n",
       "      <td>Nihil</td>\n",
       "      <td>90</td>\n",
       "      <td>2025-02-25</td>\n",
       "      <td>2025-02-08</td>\n",
       "      <td>Pinto Costa Ltda.</td>\n",
       "      <td>8</td>\n",
       "    </tr>\n",
       "    <tr>\n",
       "      <th>1</th>\n",
       "      <td>Dolore</td>\n",
       "      <td>91</td>\n",
       "      <td>2025-01-27</td>\n",
       "      <td>2025-08-24</td>\n",
       "      <td>Dias Machado e Filhos</td>\n",
       "      <td>12</td>\n",
       "    </tr>\n",
       "  </tbody>\n",
       "</table>\n",
       "</div>"
      ],
      "text/plain": [
       "  Produto  Quantidade_Estoque Data_Entrada  Data_Saida             Fornecedor  \\\n",
       "0   Nihil                  90   2025-02-25  2025-02-08      Pinto Costa Ltda.   \n",
       "1  Dolore                  91   2025-01-27  2025-08-24  Dias Machado e Filhos   \n",
       "\n",
       "   Tempo_Medio_Reposicao  \n",
       "0                      8  \n",
       "1                     12  "
      ]
     },
     "execution_count": 8,
     "metadata": {},
     "output_type": "execute_result"
    }
   ],
   "source": [
    "df = pd.read_csv(\"../data/estoque.csv\")\n",
    "df.head(2)"
   ]
  },
  {
   "cell_type": "code",
   "execution_count": 11,
   "id": "9c868143",
   "metadata": {},
   "outputs": [
    {
     "data": {
      "text/html": [
       "<div>\n",
       "<style scoped>\n",
       "    .dataframe tbody tr th:only-of-type {\n",
       "        vertical-align: middle;\n",
       "    }\n",
       "\n",
       "    .dataframe tbody tr th {\n",
       "        vertical-align: top;\n",
       "    }\n",
       "\n",
       "    .dataframe thead th {\n",
       "        text-align: right;\n",
       "    }\n",
       "</style>\n",
       "<table border=\"1\" class=\"dataframe\">\n",
       "  <thead>\n",
       "    <tr style=\"text-align: right;\">\n",
       "      <th></th>\n",
       "      <th>Campanha</th>\n",
       "      <th>Emails_Abertos</th>\n",
       "      <th>Emails_Clicados</th>\n",
       "      <th>Cupons_Usados</th>\n",
       "      <th>Curtidas</th>\n",
       "      <th>Comentarios</th>\n",
       "      <th>Cliques_Link_Compra</th>\n",
       "      <th>Reviews_Produtos</th>\n",
       "    </tr>\n",
       "  </thead>\n",
       "  <tbody>\n",
       "    <tr>\n",
       "      <th>0</th>\n",
       "      <td>Asperiores</td>\n",
       "      <td>72</td>\n",
       "      <td>50</td>\n",
       "      <td>4</td>\n",
       "      <td>162</td>\n",
       "      <td>19</td>\n",
       "      <td>67</td>\n",
       "      <td>7</td>\n",
       "    </tr>\n",
       "    <tr>\n",
       "      <th>1</th>\n",
       "      <td>At</td>\n",
       "      <td>97</td>\n",
       "      <td>48</td>\n",
       "      <td>27</td>\n",
       "      <td>139</td>\n",
       "      <td>20</td>\n",
       "      <td>26</td>\n",
       "      <td>34</td>\n",
       "    </tr>\n",
       "  </tbody>\n",
       "</table>\n",
       "</div>"
      ],
      "text/plain": [
       "     Campanha  Emails_Abertos  Emails_Clicados  Cupons_Usados  Curtidas  \\\n",
       "0  Asperiores              72               50              4       162   \n",
       "1          At              97               48             27       139   \n",
       "\n",
       "   Comentarios  Cliques_Link_Compra  Reviews_Produtos  \n",
       "0           19                   67                 7  \n",
       "1           20                   26                34  "
      ]
     },
     "execution_count": 11,
     "metadata": {},
     "output_type": "execute_result"
    }
   ],
   "source": [
    "df = pd.read_csv(\"../data/marketing.csv\")\n",
    "df.head(2)"
   ]
  },
  {
   "cell_type": "code",
   "execution_count": 12,
   "id": "1d6cc7a6",
   "metadata": {},
   "outputs": [
    {
     "data": {
      "text/html": [
       "<div>\n",
       "<style scoped>\n",
       "    .dataframe tbody tr th:only-of-type {\n",
       "        vertical-align: middle;\n",
       "    }\n",
       "\n",
       "    .dataframe tbody tr th {\n",
       "        vertical-align: top;\n",
       "    }\n",
       "\n",
       "    .dataframe thead th {\n",
       "        text-align: right;\n",
       "    }\n",
       "</style>\n",
       "<table border=\"1\" class=\"dataframe\">\n",
       "  <thead>\n",
       "    <tr style=\"text-align: right;\">\n",
       "      <th></th>\n",
       "      <th>ID_Produto</th>\n",
       "      <th>Nome</th>\n",
       "      <th>Categoria</th>\n",
       "      <th>Preço_Unitario</th>\n",
       "      <th>Estoque_Disponivel</th>\n",
       "    </tr>\n",
       "  </thead>\n",
       "  <tbody>\n",
       "    <tr>\n",
       "      <th>0</th>\n",
       "      <td>1</td>\n",
       "      <td>Nihil</td>\n",
       "      <td>Acessórios</td>\n",
       "      <td>488.81</td>\n",
       "      <td>90</td>\n",
       "    </tr>\n",
       "    <tr>\n",
       "      <th>1</th>\n",
       "      <td>2</td>\n",
       "      <td>Dolore</td>\n",
       "      <td>Camisetas</td>\n",
       "      <td>488.02</td>\n",
       "      <td>91</td>\n",
       "    </tr>\n",
       "  </tbody>\n",
       "</table>\n",
       "</div>"
      ],
      "text/plain": [
       "   ID_Produto    Nome   Categoria  Preço_Unitario  Estoque_Disponivel\n",
       "0           1   Nihil  Acessórios          488.81                  90\n",
       "1           2  Dolore   Camisetas          488.02                  91"
      ]
     },
     "execution_count": 12,
     "metadata": {},
     "output_type": "execute_result"
    }
   ],
   "source": [
    "df = pd.read_csv(\"../data/produtos.csv\")\n",
    "df.head(2)"
   ]
  },
  {
   "cell_type": "code",
   "execution_count": 3,
   "id": "84129046",
   "metadata": {},
   "outputs": [
    {
     "data": {
      "text/html": [
       "<div>\n",
       "<style scoped>\n",
       "    .dataframe tbody tr th:only-of-type {\n",
       "        vertical-align: middle;\n",
       "    }\n",
       "\n",
       "    .dataframe tbody tr th {\n",
       "        vertical-align: top;\n",
       "    }\n",
       "\n",
       "    .dataframe thead th {\n",
       "        text-align: right;\n",
       "    }\n",
       "</style>\n",
       "<table border=\"1\" class=\"dataframe\">\n",
       "  <thead>\n",
       "    <tr style=\"text-align: right;\">\n",
       "      <th></th>\n",
       "      <th>ID_Venda</th>\n",
       "      <th>CPF_Cliente</th>\n",
       "      <th>Data_Hora</th>\n",
       "      <th>Produto_Comprado</th>\n",
       "      <th>Quantidade</th>\n",
       "      <th>Forma_Pagamento</th>\n",
       "      <th>Valor_Total</th>\n",
       "      <th>Local_Venda</th>\n",
       "    </tr>\n",
       "  </thead>\n",
       "  <tbody>\n",
       "    <tr>\n",
       "      <th>0</th>\n",
       "      <td>1</td>\n",
       "      <td>201.693.875-77</td>\n",
       "      <td>2025-08-22 16:37:36</td>\n",
       "      <td>Commodi</td>\n",
       "      <td>3</td>\n",
       "      <td>PIX</td>\n",
       "      <td>482.73</td>\n",
       "      <td>Loja Online</td>\n",
       "    </tr>\n",
       "    <tr>\n",
       "      <th>1</th>\n",
       "      <td>2</td>\n",
       "      <td>465.972.308-92</td>\n",
       "      <td>2025-06-16 11:14:43</td>\n",
       "      <td>Voluptatibus</td>\n",
       "      <td>2</td>\n",
       "      <td>Cartão</td>\n",
       "      <td>589.58</td>\n",
       "      <td>Loja Online</td>\n",
       "    </tr>\n",
       "  </tbody>\n",
       "</table>\n",
       "</div>"
      ],
      "text/plain": [
       "   ID_Venda     CPF_Cliente            Data_Hora Produto_Comprado  Quantidade  \\\n",
       "0         1  201.693.875-77  2025-08-22 16:37:36          Commodi           3   \n",
       "1         2  465.972.308-92  2025-06-16 11:14:43     Voluptatibus           2   \n",
       "\n",
       "  Forma_Pagamento  Valor_Total  Local_Venda  \n",
       "0             PIX       482.73  Loja Online  \n",
       "1          Cartão       589.58  Loja Online  "
      ]
     },
     "execution_count": 3,
     "metadata": {},
     "output_type": "execute_result"
    }
   ],
   "source": [
    "df = pd.read_csv(\"../data/vendas.csv\")\n",
    "df.head(2)"
   ]
  }
 ],
 "metadata": {
  "kernelspec": {
   "display_name": "Python 3",
   "language": "python",
   "name": "python3"
  },
  "language_info": {
   "codemirror_mode": {
    "name": "ipython",
    "version": 3
   },
   "file_extension": ".py",
   "mimetype": "text/x-python",
   "name": "python",
   "nbconvert_exporter": "python",
   "pygments_lexer": "ipython3",
   "version": "3.11.9"
  }
 },
 "nbformat": 4,
 "nbformat_minor": 5
}
